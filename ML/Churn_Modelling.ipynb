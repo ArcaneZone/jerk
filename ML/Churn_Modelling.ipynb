{
  "nbformat": 4,
  "nbformat_minor": 0,
  "metadata": {
    "colab": {
      "provenance": []
    },
    "kernelspec": {
      "name": "python3",
      "display_name": "Python 3"
    },
    "language_info": {
      "name": "python"
    }
  },
  "cells": [
    {
      "cell_type": "markdown",
      "source": [],
      "metadata": {
        "id": "gxnm_6s6pqCD"
      }
    },
    {
      "cell_type": "markdown",
      "source": [
        "# Given a bank customer, build a neural network-based classifier that can determine whether they will leave or not in the next 6 months.\n",
        "\n",
        "Dataset Description: The case study is from an open-source dataset from Kaggle. The dataset contains 10,000 sample points with 14 distinct features such as CustomerId, CreditScore, Geography, Gender, Age, Tenure, Balance, etc. Link to the Kaggle project: https://www.kaggle.com/barelydedicated/bank-customer-churn-modeling Perform following steps:\n",
        "1. Read the dataset.\n",
        "2. Distinguish the feature and target set and divide the data set into training and test sets.\n",
        "3. Normalize the train and test data. \n",
        "4. Initialize and build the model. Identify the points of improvement and implement the same.\n",
        "5. Print the accuracy score and confusion matrix."
      ],
      "metadata": {
        "id": "N16pJ3ptpvCV"
      }
    },
    {
      "cell_type": "code",
      "source": [
        "import pandas as pd\n",
        "import numpy as np\n",
        "import  seaborn as sb"
      ],
      "metadata": {
        "id": "VCIy4TUtpx4_"
      },
      "execution_count": null,
      "outputs": []
    },
    {
      "cell_type": "code",
      "source": [
        "#Read the dataset\n",
        "df=pd.read_csv(\"Churn_Modelling.csv\")\n",
        "df.head()"
      ],
      "metadata": {
        "colab": {
          "base_uri": "https://localhost:8080/",
          "height": 206
        },
        "id": "DjveSfjLp5ZG",
        "outputId": "861f9410-c146-4d13-99b5-5277a0531d06"
      },
      "execution_count": null,
      "outputs": [
        {
          "output_type": "execute_result",
          "data": {
            "text/plain": [
              "   RowNumber  CustomerId   Surname  CreditScore Geography  Gender  Age  \\\n",
              "0          1    15634602  Hargrave          619    France  Female   42   \n",
              "1          2    15647311      Hill          608     Spain  Female   41   \n",
              "2          3    15619304      Onio          502    France  Female   42   \n",
              "3          4    15701354      Boni          699    France  Female   39   \n",
              "4          5    15737888  Mitchell          850     Spain  Female   43   \n",
              "\n",
              "   Tenure    Balance  NumOfProducts  HasCrCard  IsActiveMember  \\\n",
              "0       2       0.00              1          1               1   \n",
              "1       1   83807.86              1          0               1   \n",
              "2       8  159660.80              3          1               0   \n",
              "3       1       0.00              2          0               0   \n",
              "4       2  125510.82              1          1               1   \n",
              "\n",
              "   EstimatedSalary  Exited  \n",
              "0        101348.88       1  \n",
              "1        112542.58       0  \n",
              "2        113931.57       1  \n",
              "3         93826.63       0  \n",
              "4         79084.10       0  "
            ],
            "text/html": [
              "\n",
              "  <div id=\"df-ddd98995-307f-4310-979a-ca7043e2837f\">\n",
              "    <div class=\"colab-df-container\">\n",
              "      <div>\n",
              "<style scoped>\n",
              "    .dataframe tbody tr th:only-of-type {\n",
              "        vertical-align: middle;\n",
              "    }\n",
              "\n",
              "    .dataframe tbody tr th {\n",
              "        vertical-align: top;\n",
              "    }\n",
              "\n",
              "    .dataframe thead th {\n",
              "        text-align: right;\n",
              "    }\n",
              "</style>\n",
              "<table border=\"1\" class=\"dataframe\">\n",
              "  <thead>\n",
              "    <tr style=\"text-align: right;\">\n",
              "      <th></th>\n",
              "      <th>RowNumber</th>\n",
              "      <th>CustomerId</th>\n",
              "      <th>Surname</th>\n",
              "      <th>CreditScore</th>\n",
              "      <th>Geography</th>\n",
              "      <th>Gender</th>\n",
              "      <th>Age</th>\n",
              "      <th>Tenure</th>\n",
              "      <th>Balance</th>\n",
              "      <th>NumOfProducts</th>\n",
              "      <th>HasCrCard</th>\n",
              "      <th>IsActiveMember</th>\n",
              "      <th>EstimatedSalary</th>\n",
              "      <th>Exited</th>\n",
              "    </tr>\n",
              "  </thead>\n",
              "  <tbody>\n",
              "    <tr>\n",
              "      <th>0</th>\n",
              "      <td>1</td>\n",
              "      <td>15634602</td>\n",
              "      <td>Hargrave</td>\n",
              "      <td>619</td>\n",
              "      <td>France</td>\n",
              "      <td>Female</td>\n",
              "      <td>42</td>\n",
              "      <td>2</td>\n",
              "      <td>0.00</td>\n",
              "      <td>1</td>\n",
              "      <td>1</td>\n",
              "      <td>1</td>\n",
              "      <td>101348.88</td>\n",
              "      <td>1</td>\n",
              "    </tr>\n",
              "    <tr>\n",
              "      <th>1</th>\n",
              "      <td>2</td>\n",
              "      <td>15647311</td>\n",
              "      <td>Hill</td>\n",
              "      <td>608</td>\n",
              "      <td>Spain</td>\n",
              "      <td>Female</td>\n",
              "      <td>41</td>\n",
              "      <td>1</td>\n",
              "      <td>83807.86</td>\n",
              "      <td>1</td>\n",
              "      <td>0</td>\n",
              "      <td>1</td>\n",
              "      <td>112542.58</td>\n",
              "      <td>0</td>\n",
              "    </tr>\n",
              "    <tr>\n",
              "      <th>2</th>\n",
              "      <td>3</td>\n",
              "      <td>15619304</td>\n",
              "      <td>Onio</td>\n",
              "      <td>502</td>\n",
              "      <td>France</td>\n",
              "      <td>Female</td>\n",
              "      <td>42</td>\n",
              "      <td>8</td>\n",
              "      <td>159660.80</td>\n",
              "      <td>3</td>\n",
              "      <td>1</td>\n",
              "      <td>0</td>\n",
              "      <td>113931.57</td>\n",
              "      <td>1</td>\n",
              "    </tr>\n",
              "    <tr>\n",
              "      <th>3</th>\n",
              "      <td>4</td>\n",
              "      <td>15701354</td>\n",
              "      <td>Boni</td>\n",
              "      <td>699</td>\n",
              "      <td>France</td>\n",
              "      <td>Female</td>\n",
              "      <td>39</td>\n",
              "      <td>1</td>\n",
              "      <td>0.00</td>\n",
              "      <td>2</td>\n",
              "      <td>0</td>\n",
              "      <td>0</td>\n",
              "      <td>93826.63</td>\n",
              "      <td>0</td>\n",
              "    </tr>\n",
              "    <tr>\n",
              "      <th>4</th>\n",
              "      <td>5</td>\n",
              "      <td>15737888</td>\n",
              "      <td>Mitchell</td>\n",
              "      <td>850</td>\n",
              "      <td>Spain</td>\n",
              "      <td>Female</td>\n",
              "      <td>43</td>\n",
              "      <td>2</td>\n",
              "      <td>125510.82</td>\n",
              "      <td>1</td>\n",
              "      <td>1</td>\n",
              "      <td>1</td>\n",
              "      <td>79084.10</td>\n",
              "      <td>0</td>\n",
              "    </tr>\n",
              "  </tbody>\n",
              "</table>\n",
              "</div>\n",
              "      <button class=\"colab-df-convert\" onclick=\"convertToInteractive('df-ddd98995-307f-4310-979a-ca7043e2837f')\"\n",
              "              title=\"Convert this dataframe to an interactive table.\"\n",
              "              style=\"display:none;\">\n",
              "        \n",
              "  <svg xmlns=\"http://www.w3.org/2000/svg\" height=\"24px\"viewBox=\"0 0 24 24\"\n",
              "       width=\"24px\">\n",
              "    <path d=\"M0 0h24v24H0V0z\" fill=\"none\"/>\n",
              "    <path d=\"M18.56 5.44l.94 2.06.94-2.06 2.06-.94-2.06-.94-.94-2.06-.94 2.06-2.06.94zm-11 1L8.5 8.5l.94-2.06 2.06-.94-2.06-.94L8.5 2.5l-.94 2.06-2.06.94zm10 10l.94 2.06.94-2.06 2.06-.94-2.06-.94-.94-2.06-.94 2.06-2.06.94z\"/><path d=\"M17.41 7.96l-1.37-1.37c-.4-.4-.92-.59-1.43-.59-.52 0-1.04.2-1.43.59L10.3 9.45l-7.72 7.72c-.78.78-.78 2.05 0 2.83L4 21.41c.39.39.9.59 1.41.59.51 0 1.02-.2 1.41-.59l7.78-7.78 2.81-2.81c.8-.78.8-2.07 0-2.86zM5.41 20L4 18.59l7.72-7.72 1.47 1.35L5.41 20z\"/>\n",
              "  </svg>\n",
              "      </button>\n",
              "      \n",
              "  <style>\n",
              "    .colab-df-container {\n",
              "      display:flex;\n",
              "      flex-wrap:wrap;\n",
              "      gap: 12px;\n",
              "    }\n",
              "\n",
              "    .colab-df-convert {\n",
              "      background-color: #E8F0FE;\n",
              "      border: none;\n",
              "      border-radius: 50%;\n",
              "      cursor: pointer;\n",
              "      display: none;\n",
              "      fill: #1967D2;\n",
              "      height: 32px;\n",
              "      padding: 0 0 0 0;\n",
              "      width: 32px;\n",
              "    }\n",
              "\n",
              "    .colab-df-convert:hover {\n",
              "      background-color: #E2EBFA;\n",
              "      box-shadow: 0px 1px 2px rgba(60, 64, 67, 0.3), 0px 1px 3px 1px rgba(60, 64, 67, 0.15);\n",
              "      fill: #174EA6;\n",
              "    }\n",
              "\n",
              "    [theme=dark] .colab-df-convert {\n",
              "      background-color: #3B4455;\n",
              "      fill: #D2E3FC;\n",
              "    }\n",
              "\n",
              "    [theme=dark] .colab-df-convert:hover {\n",
              "      background-color: #434B5C;\n",
              "      box-shadow: 0px 1px 3px 1px rgba(0, 0, 0, 0.15);\n",
              "      filter: drop-shadow(0px 1px 2px rgba(0, 0, 0, 0.3));\n",
              "      fill: #FFFFFF;\n",
              "    }\n",
              "  </style>\n",
              "\n",
              "      <script>\n",
              "        const buttonEl =\n",
              "          document.querySelector('#df-ddd98995-307f-4310-979a-ca7043e2837f button.colab-df-convert');\n",
              "        buttonEl.style.display =\n",
              "          google.colab.kernel.accessAllowed ? 'block' : 'none';\n",
              "\n",
              "        async function convertToInteractive(key) {\n",
              "          const element = document.querySelector('#df-ddd98995-307f-4310-979a-ca7043e2837f');\n",
              "          const dataTable =\n",
              "            await google.colab.kernel.invokeFunction('convertToInteractive',\n",
              "                                                     [key], {});\n",
              "          if (!dataTable) return;\n",
              "\n",
              "          const docLinkHtml = 'Like what you see? Visit the ' +\n",
              "            '<a target=\"_blank\" href=https://colab.research.google.com/notebooks/data_table.ipynb>data table notebook</a>'\n",
              "            + ' to learn more about interactive tables.';\n",
              "          element.innerHTML = '';\n",
              "          dataTable['output_type'] = 'display_data';\n",
              "          await google.colab.output.renderOutput(dataTable, element);\n",
              "          const docLink = document.createElement('div');\n",
              "          docLink.innerHTML = docLinkHtml;\n",
              "          element.appendChild(docLink);\n",
              "        }\n",
              "      </script>\n",
              "    </div>\n",
              "  </div>\n",
              "  "
            ]
          },
          "metadata": {},
          "execution_count": 4
        }
      ]
    },
    {
      "cell_type": "code",
      "source": [
        "df.isnull().sum()"
      ],
      "metadata": {
        "colab": {
          "base_uri": "https://localhost:8080/"
        },
        "id": "vTTNT_zzp8l3",
        "outputId": "367f99c4-c8b7-434a-d909-4d72777ee4e1"
      },
      "execution_count": null,
      "outputs": [
        {
          "output_type": "execute_result",
          "data": {
            "text/plain": [
              "RowNumber          0\n",
              "CustomerId         0\n",
              "Surname            0\n",
              "CreditScore        0\n",
              "Geography          0\n",
              "Gender             0\n",
              "Age                0\n",
              "Tenure             0\n",
              "Balance            0\n",
              "NumOfProducts      0\n",
              "HasCrCard          0\n",
              "IsActiveMember     0\n",
              "EstimatedSalary    0\n",
              "Exited             0\n",
              "dtype: int64"
            ]
          },
          "metadata": {},
          "execution_count": 5
        }
      ]
    },
    {
      "cell_type": "markdown",
      "source": [
        "# Distinguish the feature and target set and divide the data set into training and test sets."
      ],
      "metadata": {
        "id": "qBzXqTW-qEB6"
      }
    },
    {
      "cell_type": "code",
      "source": [
        "X=df[['CreditScore','Age','Tenure','Balance','NumOfProducts','HasCrCard','IsActiveMember','EstimatedSalary','Exited']]\n",
        "states=pd.get_dummies(df['Geography'],drop_first = True)\n",
        "gender=pd.get_dummies(df['Gender'],drop_first = True)"
      ],
      "metadata": {
        "id": "2erfuZ5iqIfH"
      },
      "execution_count": null,
      "outputs": []
    },
    {
      "cell_type": "code",
      "source": [
        "df=pd.concat([X,gender,states],axis=1)"
      ],
      "metadata": {
        "id": "2_sputnuqNnc"
      },
      "execution_count": null,
      "outputs": []
    },
    {
      "cell_type": "code",
      "source": [
        "df.head(5)"
      ],
      "metadata": {
        "colab": {
          "base_uri": "https://localhost:8080/",
          "height": 206
        },
        "id": "_evkgQF3qPsf",
        "outputId": "67b705f3-9942-487d-ca0d-9273c8d8b902"
      },
      "execution_count": null,
      "outputs": [
        {
          "output_type": "execute_result",
          "data": {
            "text/plain": [
              "   CreditScore  Age  Tenure    Balance  NumOfProducts  HasCrCard  \\\n",
              "0          619   42       2       0.00              1          1   \n",
              "1          608   41       1   83807.86              1          0   \n",
              "2          502   42       8  159660.80              3          1   \n",
              "3          699   39       1       0.00              2          0   \n",
              "4          850   43       2  125510.82              1          1   \n",
              "\n",
              "   IsActiveMember  EstimatedSalary  Exited  Male  Germany  Spain  \n",
              "0               1        101348.88       1     0        0      0  \n",
              "1               1        112542.58       0     0        0      1  \n",
              "2               0        113931.57       1     0        0      0  \n",
              "3               0         93826.63       0     0        0      0  \n",
              "4               1         79084.10       0     0        0      1  "
            ],
            "text/html": [
              "\n",
              "  <div id=\"df-c778a369-f1dc-4fd1-8337-3209637c2d21\">\n",
              "    <div class=\"colab-df-container\">\n",
              "      <div>\n",
              "<style scoped>\n",
              "    .dataframe tbody tr th:only-of-type {\n",
              "        vertical-align: middle;\n",
              "    }\n",
              "\n",
              "    .dataframe tbody tr th {\n",
              "        vertical-align: top;\n",
              "    }\n",
              "\n",
              "    .dataframe thead th {\n",
              "        text-align: right;\n",
              "    }\n",
              "</style>\n",
              "<table border=\"1\" class=\"dataframe\">\n",
              "  <thead>\n",
              "    <tr style=\"text-align: right;\">\n",
              "      <th></th>\n",
              "      <th>CreditScore</th>\n",
              "      <th>Age</th>\n",
              "      <th>Tenure</th>\n",
              "      <th>Balance</th>\n",
              "      <th>NumOfProducts</th>\n",
              "      <th>HasCrCard</th>\n",
              "      <th>IsActiveMember</th>\n",
              "      <th>EstimatedSalary</th>\n",
              "      <th>Exited</th>\n",
              "      <th>Male</th>\n",
              "      <th>Germany</th>\n",
              "      <th>Spain</th>\n",
              "    </tr>\n",
              "  </thead>\n",
              "  <tbody>\n",
              "    <tr>\n",
              "      <th>0</th>\n",
              "      <td>619</td>\n",
              "      <td>42</td>\n",
              "      <td>2</td>\n",
              "      <td>0.00</td>\n",
              "      <td>1</td>\n",
              "      <td>1</td>\n",
              "      <td>1</td>\n",
              "      <td>101348.88</td>\n",
              "      <td>1</td>\n",
              "      <td>0</td>\n",
              "      <td>0</td>\n",
              "      <td>0</td>\n",
              "    </tr>\n",
              "    <tr>\n",
              "      <th>1</th>\n",
              "      <td>608</td>\n",
              "      <td>41</td>\n",
              "      <td>1</td>\n",
              "      <td>83807.86</td>\n",
              "      <td>1</td>\n",
              "      <td>0</td>\n",
              "      <td>1</td>\n",
              "      <td>112542.58</td>\n",
              "      <td>0</td>\n",
              "      <td>0</td>\n",
              "      <td>0</td>\n",
              "      <td>1</td>\n",
              "    </tr>\n",
              "    <tr>\n",
              "      <th>2</th>\n",
              "      <td>502</td>\n",
              "      <td>42</td>\n",
              "      <td>8</td>\n",
              "      <td>159660.80</td>\n",
              "      <td>3</td>\n",
              "      <td>1</td>\n",
              "      <td>0</td>\n",
              "      <td>113931.57</td>\n",
              "      <td>1</td>\n",
              "      <td>0</td>\n",
              "      <td>0</td>\n",
              "      <td>0</td>\n",
              "    </tr>\n",
              "    <tr>\n",
              "      <th>3</th>\n",
              "      <td>699</td>\n",
              "      <td>39</td>\n",
              "      <td>1</td>\n",
              "      <td>0.00</td>\n",
              "      <td>2</td>\n",
              "      <td>0</td>\n",
              "      <td>0</td>\n",
              "      <td>93826.63</td>\n",
              "      <td>0</td>\n",
              "      <td>0</td>\n",
              "      <td>0</td>\n",
              "      <td>0</td>\n",
              "    </tr>\n",
              "    <tr>\n",
              "      <th>4</th>\n",
              "      <td>850</td>\n",
              "      <td>43</td>\n",
              "      <td>2</td>\n",
              "      <td>125510.82</td>\n",
              "      <td>1</td>\n",
              "      <td>1</td>\n",
              "      <td>1</td>\n",
              "      <td>79084.10</td>\n",
              "      <td>0</td>\n",
              "      <td>0</td>\n",
              "      <td>0</td>\n",
              "      <td>1</td>\n",
              "    </tr>\n",
              "  </tbody>\n",
              "</table>\n",
              "</div>\n",
              "      <button class=\"colab-df-convert\" onclick=\"convertToInteractive('df-c778a369-f1dc-4fd1-8337-3209637c2d21')\"\n",
              "              title=\"Convert this dataframe to an interactive table.\"\n",
              "              style=\"display:none;\">\n",
              "        \n",
              "  <svg xmlns=\"http://www.w3.org/2000/svg\" height=\"24px\"viewBox=\"0 0 24 24\"\n",
              "       width=\"24px\">\n",
              "    <path d=\"M0 0h24v24H0V0z\" fill=\"none\"/>\n",
              "    <path d=\"M18.56 5.44l.94 2.06.94-2.06 2.06-.94-2.06-.94-.94-2.06-.94 2.06-2.06.94zm-11 1L8.5 8.5l.94-2.06 2.06-.94-2.06-.94L8.5 2.5l-.94 2.06-2.06.94zm10 10l.94 2.06.94-2.06 2.06-.94-2.06-.94-.94-2.06-.94 2.06-2.06.94z\"/><path d=\"M17.41 7.96l-1.37-1.37c-.4-.4-.92-.59-1.43-.59-.52 0-1.04.2-1.43.59L10.3 9.45l-7.72 7.72c-.78.78-.78 2.05 0 2.83L4 21.41c.39.39.9.59 1.41.59.51 0 1.02-.2 1.41-.59l7.78-7.78 2.81-2.81c.8-.78.8-2.07 0-2.86zM5.41 20L4 18.59l7.72-7.72 1.47 1.35L5.41 20z\"/>\n",
              "  </svg>\n",
              "      </button>\n",
              "      \n",
              "  <style>\n",
              "    .colab-df-container {\n",
              "      display:flex;\n",
              "      flex-wrap:wrap;\n",
              "      gap: 12px;\n",
              "    }\n",
              "\n",
              "    .colab-df-convert {\n",
              "      background-color: #E8F0FE;\n",
              "      border: none;\n",
              "      border-radius: 50%;\n",
              "      cursor: pointer;\n",
              "      display: none;\n",
              "      fill: #1967D2;\n",
              "      height: 32px;\n",
              "      padding: 0 0 0 0;\n",
              "      width: 32px;\n",
              "    }\n",
              "\n",
              "    .colab-df-convert:hover {\n",
              "      background-color: #E2EBFA;\n",
              "      box-shadow: 0px 1px 2px rgba(60, 64, 67, 0.3), 0px 1px 3px 1px rgba(60, 64, 67, 0.15);\n",
              "      fill: #174EA6;\n",
              "    }\n",
              "\n",
              "    [theme=dark] .colab-df-convert {\n",
              "      background-color: #3B4455;\n",
              "      fill: #D2E3FC;\n",
              "    }\n",
              "\n",
              "    [theme=dark] .colab-df-convert:hover {\n",
              "      background-color: #434B5C;\n",
              "      box-shadow: 0px 1px 3px 1px rgba(0, 0, 0, 0.15);\n",
              "      filter: drop-shadow(0px 1px 2px rgba(0, 0, 0, 0.3));\n",
              "      fill: #FFFFFF;\n",
              "    }\n",
              "  </style>\n",
              "\n",
              "      <script>\n",
              "        const buttonEl =\n",
              "          document.querySelector('#df-c778a369-f1dc-4fd1-8337-3209637c2d21 button.colab-df-convert');\n",
              "        buttonEl.style.display =\n",
              "          google.colab.kernel.accessAllowed ? 'block' : 'none';\n",
              "\n",
              "        async function convertToInteractive(key) {\n",
              "          const element = document.querySelector('#df-c778a369-f1dc-4fd1-8337-3209637c2d21');\n",
              "          const dataTable =\n",
              "            await google.colab.kernel.invokeFunction('convertToInteractive',\n",
              "                                                     [key], {});\n",
              "          if (!dataTable) return;\n",
              "\n",
              "          const docLinkHtml = 'Like what you see? Visit the ' +\n",
              "            '<a target=\"_blank\" href=https://colab.research.google.com/notebooks/data_table.ipynb>data table notebook</a>'\n",
              "            + ' to learn more about interactive tables.';\n",
              "          element.innerHTML = '';\n",
              "          dataTable['output_type'] = 'display_data';\n",
              "          await google.colab.output.renderOutput(dataTable, element);\n",
              "          const docLink = document.createElement('div');\n",
              "          docLink.innerHTML = docLinkHtml;\n",
              "          element.appendChild(docLink);\n",
              "        }\n",
              "      </script>\n",
              "    </div>\n",
              "  </div>\n",
              "  "
            ]
          },
          "metadata": {},
          "execution_count": 10
        }
      ]
    },
    {
      "cell_type": "code",
      "source": [
        "X=df.drop(['Exited'],axis=1)\n",
        "Y=df['Exited']"
      ],
      "metadata": {
        "id": "Sx_AWs80qRpe"
      },
      "execution_count": null,
      "outputs": []
    },
    {
      "cell_type": "code",
      "source": [
        "from sklearn.model_selection import train_test_split\n",
        "X_train,X_test,Y_train,Y_test=train_test_split(X,Y,test_size=0.3,random_state=2)"
      ],
      "metadata": {
        "id": "Y_cdWHcfqUmx"
      },
      "execution_count": null,
      "outputs": []
    },
    {
      "cell_type": "markdown",
      "source": [
        "# Normalize the train and test data"
      ],
      "metadata": {
        "id": "if2roYHlqcAR"
      }
    },
    {
      "cell_type": "code",
      "source": [
        "from sklearn.preprocessing import StandardScaler\n",
        "sc=StandardScaler()"
      ],
      "metadata": {
        "id": "SOuX2W2Uqdvr"
      },
      "execution_count": null,
      "outputs": []
    },
    {
      "cell_type": "code",
      "source": [
        "X_train=sc.fit_transform(X_train)\n",
        "X_test=sc.fit_transform(X_test)"
      ],
      "metadata": {
        "id": "NOicQSnOqgnM"
      },
      "execution_count": null,
      "outputs": []
    },
    {
      "cell_type": "code",
      "source": [
        "X_train"
      ],
      "metadata": {
        "colab": {
          "base_uri": "https://localhost:8080/"
        },
        "id": "gHDa-KseqjBZ",
        "outputId": "df0a5d82-704b-4af2-c7a2-93883cab3284"
      },
      "execution_count": null,
      "outputs": [
        {
          "output_type": "execute_result",
          "data": {
            "text/plain": [
              "array([[ 0.40603944, -1.2255974 , -0.69902887, ..., -1.08690612,\n",
              "        -0.58768841, -0.56877202],\n",
              "       [-1.05419348,  0.37842889, -0.69902887, ..., -1.08690612,\n",
              "         1.70158197, -0.56877202],\n",
              "       [-2.13124471, -0.84817945, -0.69902887, ..., -1.08690612,\n",
              "        -0.58768841, -0.56877202],\n",
              "       ...,\n",
              "       [ 2.06304133, -0.28205252, -0.69902887, ...,  0.92004266,\n",
              "        -0.58768841, -0.56877202],\n",
              "       [-1.03348096,  1.41632826, -0.00897076, ...,  0.92004266,\n",
              "         1.70158197, -0.56877202],\n",
              "       [ 0.03321401, -1.03688842,  0.68108736, ..., -1.08690612,\n",
              "        -0.58768841, -0.56877202]])"
            ]
          },
          "metadata": {},
          "execution_count": 15
        }
      ]
    },
    {
      "cell_type": "code",
      "source": [
        "X_test"
      ],
      "metadata": {
        "colab": {
          "base_uri": "https://localhost:8080/"
        },
        "id": "ieULbleCqlFs",
        "outputId": "3b532382-0203-4d33-b857-2c13374071fb"
      },
      "execution_count": null,
      "outputs": [
        {
          "output_type": "execute_result",
          "data": {
            "text/plain": [
              "array([[ 0.83723003, -0.07477521,  1.74412033, ..., -1.11753101,\n",
              "        -0.557843  , -0.58556189],\n",
              "       [-0.05072348,  0.21871667, -1.0364621 , ..., -1.11753101,\n",
              "         1.79261907, -0.58556189],\n",
              "       [-0.32949959,  1.68617608,  0.70140192, ...,  0.89482975,\n",
              "        -0.557843  , -0.58556189],\n",
              "       ...,\n",
              "       [ 0.29000287, -0.27043646, -0.6888893 , ...,  0.89482975,\n",
              "         1.79261907, -0.58556189],\n",
              "       [ 0.76495475, -0.17260584,  0.35382912, ...,  0.89482975,\n",
              "         1.79261907, -0.58556189],\n",
              "       [ 1.13665622,  0.02305542,  0.35382912, ...,  0.89482975,\n",
              "        -0.557843  , -0.58556189]])"
            ]
          },
          "metadata": {},
          "execution_count": 16
        }
      ]
    },
    {
      "cell_type": "markdown",
      "source": [
        "# Initialize and build the model. Identify the points of improvement and implement the same."
      ],
      "metadata": {
        "id": "Ec9oOSwBqsVz"
      }
    },
    {
      "cell_type": "code",
      "source": [
        "import keras"
      ],
      "metadata": {
        "id": "wIgemqQJqs-Q"
      },
      "execution_count": null,
      "outputs": []
    },
    {
      "cell_type": "code",
      "source": [
        "from keras.models import Sequential\n",
        "from keras.layers import Dense"
      ],
      "metadata": {
        "id": "rOZ4PfJOqwdv"
      },
      "execution_count": null,
      "outputs": []
    },
    {
      "cell_type": "code",
      "source": [
        "Classifier = Sequential()\n",
        "Classifier.add(Dense(150,input_dim=11,activation = 'tanh'))\n",
        "Classifier.add(Dense(150,activation = 'tanh'))\n",
        "Classifier.add(Dense(150,activation = 'tanh'))\n",
        "Classifier.add(Dense(1, activation='sigmoid'))\n",
        "Classifier.compile(loss='binary_crossentropy', optimizer='adam', metrics = ['accuracy'])\n",
        "Classifier.fit(X_train,Y_train,epochs=100,batch_size=15)\n"
      ],
      "metadata": {
        "colab": {
          "base_uri": "https://localhost:8080/"
        },
        "id": "Gc1Y-CAUrK_X",
        "outputId": "a18e355a-092b-4048-d92d-e58dd4f2ae95"
      },
      "execution_count": null,
      "outputs": [
        {
          "output_type": "stream",
          "name": "stdout",
          "text": [
            "Epoch 1/100\n",
            "467/467 [==============================] - 2s 3ms/step - loss: 0.4106 - accuracy: 0.8266\n",
            "Epoch 2/100\n",
            "467/467 [==============================] - 2s 3ms/step - loss: 0.3591 - accuracy: 0.8504\n",
            "Epoch 3/100\n",
            "467/467 [==============================] - 2s 3ms/step - loss: 0.3525 - accuracy: 0.8553\n",
            "Epoch 4/100\n",
            "467/467 [==============================] - 2s 3ms/step - loss: 0.3462 - accuracy: 0.8559\n",
            "Epoch 5/100\n",
            "467/467 [==============================] - 2s 3ms/step - loss: 0.3410 - accuracy: 0.8591\n",
            "Epoch 6/100\n",
            "467/467 [==============================] - 2s 3ms/step - loss: 0.3413 - accuracy: 0.8603\n",
            "Epoch 7/100\n",
            "467/467 [==============================] - 2s 3ms/step - loss: 0.3360 - accuracy: 0.8613\n",
            "Epoch 8/100\n",
            "467/467 [==============================] - 2s 3ms/step - loss: 0.3369 - accuracy: 0.8586\n",
            "Epoch 9/100\n",
            "467/467 [==============================] - 2s 3ms/step - loss: 0.3291 - accuracy: 0.8639\n",
            "Epoch 10/100\n",
            "467/467 [==============================] - 2s 3ms/step - loss: 0.3263 - accuracy: 0.8667\n",
            "Epoch 11/100\n",
            "467/467 [==============================] - 2s 3ms/step - loss: 0.3220 - accuracy: 0.8691\n",
            "Epoch 12/100\n",
            "467/467 [==============================] - 2s 3ms/step - loss: 0.3172 - accuracy: 0.8709\n",
            "Epoch 13/100\n",
            "467/467 [==============================] - 2s 3ms/step - loss: 0.3158 - accuracy: 0.8663\n",
            "Epoch 14/100\n",
            "467/467 [==============================] - 2s 3ms/step - loss: 0.3100 - accuracy: 0.8720\n",
            "Epoch 15/100\n",
            "467/467 [==============================] - 2s 3ms/step - loss: 0.3060 - accuracy: 0.8757\n",
            "Epoch 16/100\n",
            "467/467 [==============================] - 2s 3ms/step - loss: 0.3001 - accuracy: 0.8759\n",
            "Epoch 17/100\n",
            "467/467 [==============================] - 2s 3ms/step - loss: 0.2933 - accuracy: 0.8773\n",
            "Epoch 18/100\n",
            "467/467 [==============================] - 2s 3ms/step - loss: 0.2877 - accuracy: 0.8816\n",
            "Epoch 19/100\n",
            "467/467 [==============================] - 2s 3ms/step - loss: 0.2822 - accuracy: 0.8820\n",
            "Epoch 20/100\n",
            "467/467 [==============================] - 2s 3ms/step - loss: 0.2763 - accuracy: 0.8850\n",
            "Epoch 21/100\n",
            "467/467 [==============================] - 2s 5ms/step - loss: 0.2686 - accuracy: 0.8879\n",
            "Epoch 22/100\n",
            "467/467 [==============================] - 3s 6ms/step - loss: 0.2611 - accuracy: 0.8917\n",
            "Epoch 23/100\n",
            "467/467 [==============================] - 2s 4ms/step - loss: 0.2512 - accuracy: 0.8959\n",
            "Epoch 24/100\n",
            "467/467 [==============================] - 2s 3ms/step - loss: 0.2446 - accuracy: 0.8979\n",
            "Epoch 25/100\n",
            "467/467 [==============================] - 2s 3ms/step - loss: 0.2372 - accuracy: 0.9017\n",
            "Epoch 26/100\n",
            "467/467 [==============================] - 2s 3ms/step - loss: 0.2267 - accuracy: 0.9076\n",
            "Epoch 27/100\n",
            "467/467 [==============================] - 2s 3ms/step - loss: 0.2163 - accuracy: 0.9096\n",
            "Epoch 28/100\n",
            "467/467 [==============================] - 2s 3ms/step - loss: 0.2090 - accuracy: 0.9147\n",
            "Epoch 29/100\n",
            "467/467 [==============================] - 2s 3ms/step - loss: 0.2007 - accuracy: 0.9179\n",
            "Epoch 30/100\n",
            "467/467 [==============================] - 2s 3ms/step - loss: 0.1884 - accuracy: 0.9236\n",
            "Epoch 31/100\n",
            "467/467 [==============================] - 3s 6ms/step - loss: 0.1745 - accuracy: 0.9303\n",
            "Epoch 32/100\n",
            "467/467 [==============================] - 2s 4ms/step - loss: 0.1682 - accuracy: 0.9324\n",
            "Epoch 33/100\n",
            "467/467 [==============================] - 2s 4ms/step - loss: 0.1556 - accuracy: 0.9386\n",
            "Epoch 34/100\n",
            "467/467 [==============================] - 2s 4ms/step - loss: 0.1443 - accuracy: 0.9423\n",
            "Epoch 35/100\n",
            "467/467 [==============================] - 2s 4ms/step - loss: 0.1345 - accuracy: 0.9499\n",
            "Epoch 36/100\n",
            "467/467 [==============================] - 2s 3ms/step - loss: 0.1245 - accuracy: 0.9537\n",
            "Epoch 37/100\n",
            "467/467 [==============================] - 2s 4ms/step - loss: 0.1153 - accuracy: 0.9593\n",
            "Epoch 38/100\n",
            "467/467 [==============================] - 2s 3ms/step - loss: 0.1057 - accuracy: 0.9619\n",
            "Epoch 39/100\n",
            "467/467 [==============================] - 2s 3ms/step - loss: 0.0984 - accuracy: 0.9667\n",
            "Epoch 40/100\n",
            "467/467 [==============================] - 2s 3ms/step - loss: 0.0889 - accuracy: 0.9693\n",
            "Epoch 41/100\n",
            "467/467 [==============================] - 2s 3ms/step - loss: 0.0801 - accuracy: 0.9757\n",
            "Epoch 42/100\n",
            "467/467 [==============================] - 2s 3ms/step - loss: 0.0737 - accuracy: 0.9771\n",
            "Epoch 43/100\n",
            "467/467 [==============================] - 2s 3ms/step - loss: 0.0709 - accuracy: 0.9796\n",
            "Epoch 44/100\n",
            "467/467 [==============================] - 2s 3ms/step - loss: 0.0627 - accuracy: 0.9811\n",
            "Epoch 45/100\n",
            "467/467 [==============================] - 2s 3ms/step - loss: 0.0564 - accuracy: 0.9854\n",
            "Epoch 46/100\n",
            "467/467 [==============================] - 2s 3ms/step - loss: 0.0519 - accuracy: 0.9857\n",
            "Epoch 47/100\n",
            "467/467 [==============================] - 2s 3ms/step - loss: 0.0499 - accuracy: 0.9866\n",
            "Epoch 48/100\n",
            "467/467 [==============================] - 2s 3ms/step - loss: 0.0440 - accuracy: 0.9896\n",
            "Epoch 49/100\n",
            "467/467 [==============================] - 2s 3ms/step - loss: 0.0382 - accuracy: 0.9923\n",
            "Epoch 50/100\n",
            "467/467 [==============================] - 2s 3ms/step - loss: 0.0364 - accuracy: 0.9921\n",
            "Epoch 51/100\n",
            "467/467 [==============================] - 2s 3ms/step - loss: 0.0372 - accuracy: 0.9917\n",
            "Epoch 52/100\n",
            "467/467 [==============================] - 2s 3ms/step - loss: 0.0404 - accuracy: 0.9890\n",
            "Epoch 53/100\n",
            "467/467 [==============================] - 2s 3ms/step - loss: 0.0358 - accuracy: 0.9907\n",
            "Epoch 54/100\n",
            "467/467 [==============================] - 2s 3ms/step - loss: 0.0289 - accuracy: 0.9944\n",
            "Epoch 55/100\n",
            "467/467 [==============================] - 2s 3ms/step - loss: 0.0283 - accuracy: 0.9940\n",
            "Epoch 56/100\n",
            "467/467 [==============================] - 2s 4ms/step - loss: 0.0197 - accuracy: 0.9960\n",
            "Epoch 57/100\n",
            "467/467 [==============================] - 2s 3ms/step - loss: 0.0244 - accuracy: 0.9947\n",
            "Epoch 58/100\n",
            "467/467 [==============================] - 2s 3ms/step - loss: 0.0217 - accuracy: 0.9957\n",
            "Epoch 59/100\n",
            "467/467 [==============================] - 2s 3ms/step - loss: 0.0316 - accuracy: 0.9911\n",
            "Epoch 60/100\n",
            "467/467 [==============================] - 2s 3ms/step - loss: 0.0285 - accuracy: 0.9923\n",
            "Epoch 61/100\n",
            "467/467 [==============================] - 2s 3ms/step - loss: 0.0181 - accuracy: 0.9967\n",
            "Epoch 62/100\n",
            "467/467 [==============================] - 2s 4ms/step - loss: 0.0151 - accuracy: 0.9973\n",
            "Epoch 63/100\n",
            "467/467 [==============================] - 2s 3ms/step - loss: 0.0105 - accuracy: 0.9980\n",
            "Epoch 64/100\n",
            "467/467 [==============================] - 2s 3ms/step - loss: 0.0209 - accuracy: 0.9951\n",
            "Epoch 65/100\n",
            "467/467 [==============================] - 2s 3ms/step - loss: 0.0336 - accuracy: 0.9891\n",
            "Epoch 66/100\n",
            "467/467 [==============================] - 2s 3ms/step - loss: 0.0265 - accuracy: 0.9923\n",
            "Epoch 67/100\n",
            "467/467 [==============================] - 2s 3ms/step - loss: 0.0269 - accuracy: 0.9924\n",
            "Epoch 68/100\n",
            "467/467 [==============================] - 2s 3ms/step - loss: 0.0095 - accuracy: 0.9980\n",
            "Epoch 69/100\n",
            "467/467 [==============================] - 2s 3ms/step - loss: 0.0153 - accuracy: 0.9960\n",
            "Epoch 70/100\n",
            "467/467 [==============================] - 2s 3ms/step - loss: 0.0162 - accuracy: 0.9959\n",
            "Epoch 71/100\n",
            "467/467 [==============================] - 2s 3ms/step - loss: 0.0175 - accuracy: 0.9961\n",
            "Epoch 72/100\n",
            "467/467 [==============================] - 2s 3ms/step - loss: 0.0241 - accuracy: 0.9924\n",
            "Epoch 73/100\n",
            "467/467 [==============================] - 2s 3ms/step - loss: 0.0201 - accuracy: 0.9944\n",
            "Epoch 74/100\n",
            "467/467 [==============================] - 2s 3ms/step - loss: 0.0195 - accuracy: 0.9949\n",
            "Epoch 75/100\n",
            "467/467 [==============================] - 2s 3ms/step - loss: 0.0163 - accuracy: 0.9957\n",
            "Epoch 76/100\n",
            "467/467 [==============================] - 2s 3ms/step - loss: 0.0124 - accuracy: 0.9966\n",
            "Epoch 77/100\n",
            "467/467 [==============================] - 2s 3ms/step - loss: 0.0082 - accuracy: 0.9983\n",
            "Epoch 78/100\n",
            "467/467 [==============================] - 2s 3ms/step - loss: 0.0062 - accuracy: 0.9983\n",
            "Epoch 79/100\n",
            "467/467 [==============================] - 2s 3ms/step - loss: 0.0101 - accuracy: 0.9969\n",
            "Epoch 80/100\n",
            "467/467 [==============================] - 2s 3ms/step - loss: 0.0348 - accuracy: 0.9893\n",
            "Epoch 81/100\n",
            "467/467 [==============================] - 2s 3ms/step - loss: 0.0371 - accuracy: 0.9886\n",
            "Epoch 82/100\n",
            "467/467 [==============================] - 2s 4ms/step - loss: 0.0108 - accuracy: 0.9974\n",
            "Epoch 83/100\n",
            "467/467 [==============================] - 2s 3ms/step - loss: 0.0063 - accuracy: 0.9984\n",
            "Epoch 84/100\n",
            "467/467 [==============================] - 2s 3ms/step - loss: 0.0103 - accuracy: 0.9974\n",
            "Epoch 85/100\n",
            "467/467 [==============================] - 2s 3ms/step - loss: 0.0117 - accuracy: 0.9961\n",
            "Epoch 86/100\n",
            "467/467 [==============================] - 2s 3ms/step - loss: 0.0174 - accuracy: 0.9950\n",
            "Epoch 87/100\n",
            "467/467 [==============================] - 2s 3ms/step - loss: 0.0087 - accuracy: 0.9976\n",
            "Epoch 88/100\n",
            "467/467 [==============================] - 2s 4ms/step - loss: 0.0105 - accuracy: 0.9971\n",
            "Epoch 89/100\n",
            "467/467 [==============================] - 2s 4ms/step - loss: 0.0094 - accuracy: 0.9971\n",
            "Epoch 90/100\n",
            "467/467 [==============================] - 2s 4ms/step - loss: 0.0112 - accuracy: 0.9967\n",
            "Epoch 91/100\n",
            "467/467 [==============================] - 2s 4ms/step - loss: 0.0206 - accuracy: 0.9944\n",
            "Epoch 92/100\n",
            "467/467 [==============================] - 2s 3ms/step - loss: 0.0363 - accuracy: 0.9877\n",
            "Epoch 93/100\n",
            "467/467 [==============================] - 2s 3ms/step - loss: 0.0132 - accuracy: 0.9967\n",
            "Epoch 94/100\n",
            "467/467 [==============================] - 2s 4ms/step - loss: 0.0108 - accuracy: 0.9977\n",
            "Epoch 95/100\n",
            "467/467 [==============================] - 2s 4ms/step - loss: 0.0062 - accuracy: 0.9981\n",
            "Epoch 96/100\n",
            "467/467 [==============================] - 2s 4ms/step - loss: 0.0072 - accuracy: 0.9981\n",
            "Epoch 97/100\n",
            "467/467 [==============================] - 2s 3ms/step - loss: 0.0075 - accuracy: 0.9976\n",
            "Epoch 98/100\n",
            "467/467 [==============================] - 2s 3ms/step - loss: 0.0058 - accuracy: 0.9986\n",
            "Epoch 99/100\n",
            "467/467 [==============================] - 2s 3ms/step - loss: 0.0076 - accuracy: 0.9980\n",
            "Epoch 100/100\n",
            "467/467 [==============================] - 2s 4ms/step - loss: 0.0159 - accuracy: 0.9956\n"
          ]
        },
        {
          "output_type": "execute_result",
          "data": {
            "text/plain": [
              "<keras.callbacks.History at 0x7fa57114f810>"
            ]
          },
          "metadata": {},
          "execution_count": 23
        }
      ]
    },
    {
      "cell_type": "code",
      "source": [
        "Classifier.summary()"
      ],
      "metadata": {
        "colab": {
          "base_uri": "https://localhost:8080/"
        },
        "id": "TrOrQKwqtZwe",
        "outputId": "ce7ca640-cc76-476b-f9ee-26c8437cf8af"
      },
      "execution_count": null,
      "outputs": [
        {
          "output_type": "stream",
          "name": "stdout",
          "text": [
            "Model: \"sequential_2\"\n",
            "_________________________________________________________________\n",
            " Layer (type)                Output Shape              Param #   \n",
            "=================================================================\n",
            " dense_4 (Dense)             (None, 150)               1800      \n",
            "                                                                 \n",
            " dense_5 (Dense)             (None, 150)               22650     \n",
            "                                                                 \n",
            " dense_6 (Dense)             (None, 150)               22650     \n",
            "                                                                 \n",
            " dense_7 (Dense)             (None, 1)                 151       \n",
            "                                                                 \n",
            "=================================================================\n",
            "Total params: 47,251\n",
            "Trainable params: 47,251\n",
            "Non-trainable params: 0\n",
            "_________________________________________________________________\n"
          ]
        }
      ]
    },
    {
      "cell_type": "code",
      "source": [
        "y_pred =Classifier.predict(X_test)\n",
        "y_pred[y_pred>0.5]=1\n",
        "y_pred[y_pred<0.5]=0"
      ],
      "metadata": {
        "colab": {
          "base_uri": "https://localhost:8080/"
        },
        "id": "9hxSRnODtoNn",
        "outputId": "c0bc4448-1ed5-4850-d5cc-7bd00114a35a"
      },
      "execution_count": null,
      "outputs": [
        {
          "output_type": "stream",
          "name": "stdout",
          "text": [
            "94/94 [==============================] - 0s 2ms/step\n"
          ]
        }
      ]
    },
    {
      "cell_type": "code",
      "source": [
        "y_pred = y_pred.astype(int)\n",
        "y_pred"
      ],
      "metadata": {
        "colab": {
          "base_uri": "https://localhost:8080/"
        },
        "id": "1kGsF4-Rt68r",
        "outputId": "0df00342-2934-4d16-b9d8-abae70d77d8c"
      },
      "execution_count": null,
      "outputs": [
        {
          "output_type": "execute_result",
          "data": {
            "text/plain": [
              "array([[0],\n",
              "       [0],\n",
              "       [0],\n",
              "       ...,\n",
              "       [0],\n",
              "       [0],\n",
              "       [1]])"
            ]
          },
          "metadata": {},
          "execution_count": 29
        }
      ]
    },
    {
      "cell_type": "code",
      "source": [
        "count1=0\n",
        "count0=0\n",
        "for i in y_pred:\n",
        "  if i==1:\n",
        "    count1+=1\n",
        "  else:\n",
        "    count0+=1\n",
        "print(count1)\n",
        "print(count0)"
      ],
      "metadata": {
        "colab": {
          "base_uri": "https://localhost:8080/"
        },
        "id": "ab9V768vuJ1X",
        "outputId": "d9af96bf-df28-4c14-caed-ce263edc558b"
      },
      "execution_count": null,
      "outputs": [
        {
          "output_type": "stream",
          "name": "stdout",
          "text": [
            "510\n",
            "2490\n"
          ]
        }
      ]
    },
    {
      "cell_type": "code",
      "source": [
        "from sklearn.metrics import classification_report, confusion_matrix\n",
        "cm=confusion_matrix(Y_test,y_pred)\n",
        "print(cm)"
      ],
      "metadata": {
        "colab": {
          "base_uri": "https://localhost:8080/"
        },
        "id": "Kko9lq_kvuu9",
        "outputId": "6193c380-b1c2-4f4f-9cbf-9870cdde9879"
      },
      "execution_count": null,
      "outputs": [
        {
          "output_type": "stream",
          "name": "stdout",
          "text": [
            "[[2204  211]\n",
            " [ 286  299]]\n"
          ]
        }
      ]
    },
    {
      "cell_type": "code",
      "source": [
        "print(classification_report(Y_test,y_pred))"
      ],
      "metadata": {
        "colab": {
          "base_uri": "https://localhost:8080/"
        },
        "id": "CpXMY966wuvI",
        "outputId": "b5d678d1-8e79-47b9-891c-89618fa185dd"
      },
      "execution_count": null,
      "outputs": [
        {
          "output_type": "stream",
          "name": "stdout",
          "text": [
            "              precision    recall  f1-score   support\n",
            "\n",
            "           0       0.89      0.91      0.90      2415\n",
            "           1       0.59      0.51      0.55       585\n",
            "\n",
            "    accuracy                           0.83      3000\n",
            "   macro avg       0.74      0.71      0.72      3000\n",
            "weighted avg       0.83      0.83      0.83      3000\n",
            "\n"
          ]
        }
      ]
    }
  ]
}